{
 "metadata": {
  "language_info": {
   "codemirror_mode": {
    "name": "ipython",
    "version": 3
   },
   "file_extension": ".py",
   "mimetype": "text/x-python",
   "name": "python",
   "nbconvert_exporter": "python",
   "pygments_lexer": "ipython3",
   "version": "3.7.10-final"
  },
  "orig_nbformat": 2,
  "kernelspec": {
   "name": "python3710jvsc74a57bd08fd1faa89c27e60434a8d8213a00fb45f3b272739c893849c6b21be268f16840",
   "display_name": "Python 3.7.10 64-bit ('DLC-CPU': conda)"
  }
 },
 "nbformat": 4,
 "nbformat_minor": 2,
 "cells": [
  {
   "cell_type": "code",
   "execution_count": 2,
   "metadata": {},
   "outputs": [],
   "source": [
    "import deeplabcut as dlc"
   ]
  },
  {
   "cell_type": "code",
   "execution_count": null,
   "metadata": {},
   "outputs": [],
   "source": [
    "# create project\n",
    "config_path = dlc.create_new_project('Name of the project', 'Name of the experimenter', ['Full path of video 1', 'Full path of video 2', etc...], working_directory='Full path of the woring directory')\n",
    "dlc.add_new_videos(config_path, ['full path of new video 1', 'full path of new video 2'])"
   ]
  },
  {
   "cell_type": "code",
   "execution_count": null,
   "metadata": {},
   "outputs": [],
   "source": [
    "# extract frames for labeling\n",
    "dlc.extract_frames(config_path)\n",
    "# manually label frames\n",
    "dlc.label_frames(config_path)"
   ]
  },
  {
   "cell_type": "code",
   "execution_count": null,
   "metadata": {},
   "outputs": [],
   "source": [
    "# check if the labels were created and stored correctly\n",
    "dlc.check_labels(config_path)"
   ]
  },
  {
   "cell_type": "code",
   "execution_count": null,
   "metadata": {},
   "outputs": [],
   "source": [
    "# create training dataset\n",
    "dlc.create_training_dataset(config_path)"
   ]
  },
  {
   "cell_type": "code",
   "execution_count": null,
   "metadata": {},
   "outputs": [],
   "source": [
    "# train network\n",
    "dlc.train_network(config_path, displayiters = 1000, saveiters = 10000, maxiters = 200000)"
   ]
  },
  {
   "cell_type": "code",
   "execution_count": null,
   "metadata": {},
   "outputs": [],
   "source": [
    "# evaluate the network\n",
    "dlc.evaluate_network(config_path, plotting = True)"
   ]
  },
  {
   "cell_type": "code",
   "execution_count": null,
   "metadata": {},
   "outputs": [],
   "source": [
    "# analyze new videos\n",
    "dlc.analyze_videos(config_path, ['full path of video or video folder'], videotype = '.mov')\n",
    "# filter predictions and plot trajectories\n",
    "dlc.filterpredictions(config_path, ['video_path'], videotype = '.mov')\n",
    "dlc.plot_trajectories(config_path, ['video_path'])\n",
    "# create labeled videos\n",
    "dlc.create_labeled_video(config_path, ['video_path'])"
   ]
  },
  {
   "cell_type": "code",
   "execution_count": null,
   "metadata": {},
   "outputs": [],
   "source": [
    "#"
   ]
  }
 ]
}